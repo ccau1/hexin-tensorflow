{
 "cells": [
  {
   "cell_type": "code",
   "execution_count": 5,
   "metadata": {},
   "outputs": [],
   "source": [
    "# Allow system to discover tf folder in import\n",
    "import sys\n",
    "sys.path.append('../')"
   ]
  },
  {
   "cell_type": "code",
   "execution_count": 7,
   "metadata": {},
   "outputs": [
    {
     "name": "stdout",
     "output_type": "stream",
     "text": [
      "0 [0.27866825] [0.2757988]\n",
      "20 [0.13312012] [0.28276068]\n",
      "40 [0.10728902] [0.29620603]\n",
      "60 [0.10160415] [0.29916504]\n",
      "80 [0.10035305] [0.29981625]\n",
      "100 [0.10007771] [0.29995957]\n",
      "120 [0.1000171] [0.2999911]\n",
      "140 [0.10000378] [0.29999804]\n",
      "160 [0.10000084] [0.29999956]\n",
      "180 [0.1000002] [0.29999992]\n",
      "200 [0.1000001] [0.29999995]\n"
     ]
    }
   ],
   "source": [
    "# Bring in helloWorld from models folder\n",
    "from models import helloWorld\n",
    "\n",
    "# Run its sample function\n",
    "helloWorld.runSample()"
   ]
  },
  {
   "cell_type": "code",
   "execution_count": null,
   "metadata": {},
   "outputs": [],
   "source": []
  },
  {
   "cell_type": "code",
   "execution_count": null,
   "metadata": {},
   "outputs": [],
   "source": []
  }
 ],
 "metadata": {
  "kernelspec": {
   "display_name": "Python 3",
   "language": "python",
   "name": "python3"
  },
  "language_info": {
   "codemirror_mode": {
    "name": "ipython",
    "version": 3
   },
   "file_extension": ".py",
   "mimetype": "text/x-python",
   "name": "python",
   "nbconvert_exporter": "python",
   "pygments_lexer": "ipython3",
   "version": "3.6.8"
  }
 },
 "nbformat": 4,
 "nbformat_minor": 2
}
